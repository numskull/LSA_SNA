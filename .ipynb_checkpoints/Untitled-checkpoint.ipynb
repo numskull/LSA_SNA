{
 "cells": [
  {
   "cell_type": "markdown",
   "metadata": {},
   "source": [
    "# LSA (M) Notes\n",
    "\n",
    "## Distances\n",
    "I'm going to include code for determining the euclidean and cosine distances between two terms in a term-document matrix below.\n",
    "\n",
    "### Euclidean Distance\n",
    "Euclidean distances uses a modified form of the Pythagorean theorum to measure how far apart (how similar) terms are in a term-document matrix.  This relies on a conceptual mapping of the terms in a corpus onto vector space so that they have the properties of vectors (direction, magnitude or location) which enables the use of geometric principles to discover underlying linguistic patterns in corpora."
   ]
  },
  {
   "cell_type": "code",
   "execution_count": 6,
   "metadata": {},
   "outputs": [
    {
     "name": "stdout",
     "output_type": "stream",
     "text": [
      "The words that are most similar to Battle in the Shakespeare Corpus:\n",
      "march 17.832554500127006\n",
      "army 18.708286933869708\n",
      "field 19.72308292331602\n",
      "throne 19.974984355438178\n",
      "victory 20.0\n",
      "grant 20.024984394500787\n",
      "mighty 20.149441679609886\n",
      "courage 20.346989949375804\n",
      "yield 20.808652046684813\n"
     ]
    }
   ],
   "source": [
    "from math import sqrt, pow, log\n",
    "import pandas as pd\n",
    "from numpy import sum, linalg\n",
    "from operator import itemgetter\n",
    "\n",
    "df = pd.read_csv('shakespeare.csv', delimiter=',', encoding='latin-1')\n",
    "df2 = df.set_index('Unnamed: 0')\n",
    "\n",
    "def euclidDist(df, term):\n",
    "    termVec = df.loc[str(term)] #Get term row\n",
    "    distances = {}\n",
    "    for index, r in df.iterrows():\n",
    "        dist = 0\n",
    "        for j in range(1,len(r)):\n",
    "            if term != index:\n",
    "                dist = dist + pow(r[j] - termVec[j], 2)\n",
    "        distances[str(index)] = sqrt(dist)\n",
    "    return(distances)\n",
    "\n",
    "battleDistances = euclidDist(df2, 'battle')\n",
    "topBattle = sorted(battleDistances.items(), key=itemgetter(1))[1:10]\n",
    "print(\"The words that are most similar to Battle in the Shakespeare Corpus:\")\n",
    "for key, value in topBattle:\n",
    "    print(key + \" \" + str(value))"
   ]
  },
  {
   "cell_type": "markdown",
   "metadata": {},
   "source": [
    "The Euclidean distances presented above can be understood as the diagonal distance between the vectors of each word across the corpus; the farther a word is from another word, the greater the magnitude of the distance."
   ]
  },
  {
   "cell_type": "markdown",
   "metadata": {},
   "source": [
    "### Cosine Distance\n",
    "The problem with Euclidean distance is that it is a simple distance measure between the two vectors that does not take into account that the vectors may be of different lengths.  Therefore, Euclidean distances between underrepresented or overrepresented terms can skew the magnitude of the relationships between terms (unrelated terms can be really close together if they're both short vectors)."
   ]
  }
 ],
 "metadata": {
  "kernelspec": {
   "display_name": "Python 3",
   "language": "python",
   "name": "python3"
  },
  "language_info": {
   "codemirror_mode": {
    "name": "ipython",
    "version": 3
   },
   "file_extension": ".py",
   "mimetype": "text/x-python",
   "name": "python",
   "nbconvert_exporter": "python",
   "pygments_lexer": "ipython3",
   "version": "3.6.0"
  }
 },
 "nbformat": 4,
 "nbformat_minor": 2
}
